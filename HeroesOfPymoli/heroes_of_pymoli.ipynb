{
 "cells": [
  {
   "cell_type": "code",
   "execution_count": null,
   "metadata": {},
   "outputs": [],
   "source": [
    "# Dependencies and Setup\n",
    "import pandas as pd\n",
    "\n",
    "# File to Load (Remember to Change These)\n",
    "file_to_load = \"../Resources/purchase_data.csv\"\n",
    "\n",
    "# Read Purchasing File and store into Pandas data frame\n",
    "purchase_data = pd.read_csv(file_to_load)"
   ]
  },
  {
   "cell_type": "code",
   "execution_count": null,
   "metadata": {},
   "outputs": [],
   "source": [
    "# Display portion of purchase_data\n",
    "purchase_data.head()"
   ]
  },
  {
   "cell_type": "code",
   "execution_count": null,
   "metadata": {},
   "outputs": [],
   "source": [
    "# Display the total number of players\n",
    "total_players = len(purchase_data[\"SN\"].unique())\n",
    "\n",
    "# Create a summary data frame to hold the results\n",
    "total_players_df = pd.DataFrame([{\"Total Players\": total_players}])\n",
    "\n",
    "# Display the summary data frame\n",
    "total_players_df"
   ]
  },
  {
   "cell_type": "code",
   "execution_count": null,
   "metadata": {},
   "outputs": [],
   "source": [
    "# Run basic calculations to obtain number of unique items, average price, etc.\n",
    "number_of_unique_items = len(purchase_data[\"Item ID\"].unique())\n",
    "total_revenue = purchase_data[\"Price\"].sum()\n",
    "number_of_purchases = len(purchase_data[\"Purchase ID\"].unique())\n",
    "average_price = (total_revenue / number_of_purchases)\n",
    "\n",
    "# Create a summary data frame to hold the results\n",
    "purchasing_analysis_df = pd.DataFrame([{\"Number of Unique Items\": number_of_unique_items,\n",
    "                                       \"Average Price\": average_price,\n",
    "                                       \"Number of Purchases\": number_of_purchases,\n",
    "                                       \"Total Revenue\": total_revenue}])\n",
    "\n",
    "# Optional: give the displayed data cleaner formatting\n",
    "purchasing_analysis_df[\"Average Price\"] = purchasing_analysis_df[\"Average Price\"].map(\"${:.2f}\".format)\n",
    "purchasing_analysis_df[\"Total Revenue\"] = purchasing_analysis_df[\"Total Revenue\"].map(\"${:,}\".format)\n",
    "\n",
    "# Display the summary data frame\n",
    "purchasing_analysis_df.head()"
   ]
  },
  {
   "cell_type": "code",
   "execution_count": null,
   "metadata": {},
   "outputs": [],
   "source": [
    "# Run basic calculations to obtain purchase count, avg. purchase price, avg. purchase total per person etc. by gender\n",
    "gender_grouped = purchase_data.groupby(\"Gender\")\n",
    "gender_count = gender_grouped[\"SN\"].nunique()\n",
    "gender_percentage = (gender_count / total_players) * 100\n",
    "\n",
    "# Create a summary data frame to hold the results\n",
    "gender_demographics_df = pd.DataFrame({\"Total Count\": gender_count,\n",
    "                          \"Percentage of Players\": gender_percentage})\n",
    "\n",
    "# Optional: give the displayed data cleaner formatting\n",
    "gender_demographics_df[\"Percentage of Players\"] = gender_demographics_df[\"Percentage of Players\"].map(\"{:.2f}%\".format)\n",
    "gender_demographics_df = gender_demographics_df.sort_values([\"Total Count\", \"Percentage of Players\"], ascending=False)\n",
    "gender_demographics_df.index.name = None\n",
    "\n",
    "# Display the summary data frame\n",
    "gender_demographics_df"
   ]
  },
  {
   "cell_type": "code",
   "execution_count": null,
   "metadata": {},
   "outputs": [],
   "source": [
    "gender_grouped = purchase_data.groupby(\"Gender\")\n",
    "gender_grouped.head()"
   ]
  },
  {
   "cell_type": "code",
   "execution_count": null,
   "metadata": {},
   "outputs": [],
   "source": [
    "# Run basic calculations to obtain purchase count, avg. purchase price, avg. purchase total per person etc. by gender\n",
    "# Create a summary data frame to hold the results\n",
    "# Optional: give the displayed data cleaner formatting\n",
    "# Display the summary data frame\n",
    "purchase_count = gender_grouped[\"Purchase ID\"].count()\n",
    "avg_purchase_price = gender_grouped[\"Price\"].sum() / purchase_count\n",
    "total_purchase_value = gender_grouped[\"Price\"].sum()\n",
    "ave_total_purchase_total_pp = total_purchase_value / gender_count\n",
    "purchasing_analysis_df = pd.DataFrame({\"Purchase Count\": purchase_count,\n",
    "                                      \"Average Purchase Price\": avg_purchase_price,\n",
    "                                      \"Total Purchase Value\": total_purchase_value,\n",
    "                                      \"Avg Total Purchase per Person\": ave_total_purchase_total_pp})\n",
    "purchasing_analysis_df[\"Average Purchase Price\"] = purchasing_analysis_df[\"Average Purchase Price\"].map(\"${:.2f}\".format)\n",
    "purchasing_analysis_df[\"Total Purchase Value\"] = purchasing_analysis_df[\"Total Purchase Value\"].map(\"${:,.2f}\".format)\n",
    "purchasing_analysis_df[\"Avg Total Purchase per Person\"] = purchasing_analysis_df[\"Avg Total Purchase per Person\"].map(\"${:.2f}\".format)\n",
    "purchasing_analysis_df"
   ]
  },
  {
   "cell_type": "code",
   "execution_count": null,
   "metadata": {},
   "outputs": [],
   "source": [
    "# Find out maximum and minimum ages\n",
    "print(purchase_data[\"Age\"].max())\n",
    "print(purchase_data[\"Age\"].min())"
   ]
  },
  {
   "cell_type": "code",
   "execution_count": null,
   "metadata": {},
   "outputs": [],
   "source": [
    "# Establish bins for ages\n",
    "bins = [0, 9, 14, 19, 24, 29, 34, 39, 45]\n",
    "group_labels = [\"<10\", \"10-14\", \"15-19\", \"20-24\", \"25-29\",\"30-34\", \"35-39\", \"40+\"]\n",
    "# Place the data series into a new column inside of the purchase_data DataFrame\n",
    "purchase_data[\"Age Range\"] = pd.cut(purchase_data[\"Age\"], bins, labels=group_labels, include_lowest=True) \n",
    "purchase_data.head()"
   ]
  },
  {
   "cell_type": "code",
   "execution_count": null,
   "metadata": {},
   "outputs": [],
   "source": [
    "# Creating a GroupBy object based upon \"Age Range\"\n",
    "grouped_age = purchase_data.groupby(\"Age Range\")\n",
    "\n",
    "# Find out how many rows fall into each bin\n",
    "total_count = grouped_age[\"SN\"].nunique()\n",
    "\n",
    "# Calculate percentages by age group\n",
    "percentage_of_players = round((total_count / total_players) * 100, 2).map(\"{:.2f}%\".format)\n"
   ]
  },
  {
   "cell_type": "code",
   "execution_count": null,
   "metadata": {},
   "outputs": [],
   "source": [
    "# Create a summary data frame to hold the results\n",
    "# Optional: round the percentage column to two decimal points\n",
    "# Display Age Demographics Table\n",
    "age_demographics_df = pd.DataFrame({\"Total Count\": total_count,\n",
    "                                   \"Percentage of Players\": percentage_of_players})\n",
    "age_demographics_df.index.name = None\n",
    "age_demographics_df"
   ]
  },
  {
   "cell_type": "code",
   "execution_count": null,
   "metadata": {},
   "outputs": [],
   "source": [
    "# Run basic calculations to obtain purchase count, avg. purchase price, avg. purchase total per person etc. in the table below\n",
    "purchase_count = grouped_age[\"Purchase ID\"].count()\n",
    "average_purchase_price = (grouped_age[\"Price\"].sum() / purchase_count).map(\"${:.2f}\".format)\n",
    "total_purchase_value = grouped_age[\"Price\"].sum()\n",
    "average_total_purchase_pp = total_purchase_value / total_count\n",
    "\n",
    "# Create a summary data frame to hold the results\n",
    "purchasing_analysis_age_df = pd.DataFrame({\"Purchase Count\": purchase_count,\n",
    "                                          \"Average Purchase Price\": average_purchase_price,\n",
    "                                          \"Total Purchase Value\": total_purchase_value,\n",
    "                                          \"Avg Total Purchase per Person\": average_total_purchase_pp})\n",
    "\n",
    "# Optional: give the displayed data cleaner formatting\n",
    "purchasing_analysis_age_df[\"Total Purchase Value\"] = purchasing_analysis_age_df[\"Total Purchase Value\"].map(\"${:,.2f}\".format)\n",
    "purchasing_analysis_age_df[\"Avg Total Purchase per Person\"] = purchasing_analysis_age_df[\"Avg Total Purchase per Person\"].map(\"${:.2f}\".format)\n",
    "\n",
    "# Display the summary data frame\n",
    "purchasing_analysis_age_df"
   ]
  },
  {
   "cell_type": "code",
   "execution_count": null,
   "metadata": {},
   "outputs": [],
   "source": []
  }
 ],
 "metadata": {
  "kernelspec": {
   "display_name": "Python [conda env:PythonData] *",
   "language": "python",
   "name": "conda-env-PythonData-py"
  },
  "language_info": {
   "codemirror_mode": {
    "name": "ipython",
    "version": 3
   },
   "file_extension": ".py",
   "mimetype": "text/x-python",
   "name": "python",
   "nbconvert_exporter": "python",
   "pygments_lexer": "ipython3",
   "version": "3.6.10"
  }
 },
 "nbformat": 4,
 "nbformat_minor": 4
}
